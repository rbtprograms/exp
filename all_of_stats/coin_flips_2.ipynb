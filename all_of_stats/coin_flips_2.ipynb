{
 "cells": [
  {
   "cell_type": "code",
   "execution_count": 12,
   "id": "72ede0c2",
   "metadata": {},
   "outputs": [
    {
     "name": "stdout",
     "output_type": "stream",
     "text": [
      "p =  0.5\n",
      "Expected:  500.0\n",
      "Result:  484\n"
     ]
    }
   ],
   "source": [
    "import random\n",
    "import matplotlib.pyplot as plt \n",
    "\n",
    "class Coin:\n",
    "    heads = 0\n",
    "    def __init__(self, n):\n",
    "        for i in range(0, n):\n",
    "            random_int = random.randint(0,1)\n",
    "            if random_int == 0:\n",
    "                self.heads += 1\n",
    "            \n",
    "n = 1000\n",
    "p=.5\n",
    "res = Coin(n)\n",
    "\n",
    "print('p = ', p)\n",
    "print('Expected: ', n*p)\n",
    "print('Result: ', res.heads)"
   ]
  },
  {
   "cell_type": "code",
   "execution_count": 14,
   "id": "b7ac5bf9",
   "metadata": {},
   "outputs": [
    {
     "name": "stdout",
     "output_type": "stream",
     "text": [
      "p =  0.3\n",
      "Expected:  300.0\n",
      "Result:  305\n"
     ]
    }
   ],
   "source": [
    "import random\n",
    "import matplotlib.pyplot as plt \n",
    "\n",
    "class Coin:\n",
    "    heads = 0\n",
    "    def __init__(self, n):\n",
    "        for i in range(0, n):\n",
    "            random_int = random.randint(0,9)\n",
    "            if random_int < 3:\n",
    "                self.heads += 1\n",
    "            \n",
    "n = 1000\n",
    "p=.3\n",
    "res = Coin(n)\n",
    "\n",
    "print('p = ', p)\n",
    "print('Expected: ', n*p)\n",
    "print('Result: ', res.heads)"
   ]
  },
  {
   "cell_type": "code",
   "execution_count": 15,
   "id": "468c42d8",
   "metadata": {},
   "outputs": [
    {
     "name": "stdout",
     "output_type": "stream",
     "text": [
      "p =  0.03\n",
      "Expected:  30.0\n",
      "Result:  22\n"
     ]
    }
   ],
   "source": [
    "import random\n",
    "import matplotlib.pyplot as plt \n",
    "\n",
    "class Coin:\n",
    "    heads = 0\n",
    "    def __init__(self, n):\n",
    "        for i in range(0, n):\n",
    "            random_int = random.randint(0,99)\n",
    "            if random_int < 3:\n",
    "                self.heads += 1\n",
    "            \n",
    "n = 1000\n",
    "p=.03\n",
    "res = Coin(n)\n",
    "\n",
    "print('p = ', p)\n",
    "print('Expected: ', n*p)\n",
    "print('Result: ', res.heads)"
   ]
  },
  {
   "cell_type": "code",
   "execution_count": null,
   "id": "253f31d4",
   "metadata": {},
   "outputs": [],
   "source": []
  }
 ],
 "metadata": {
  "kernelspec": {
   "display_name": "Python 3 (ipykernel)",
   "language": "python",
   "name": "python3"
  },
  "language_info": {
   "codemirror_mode": {
    "name": "ipython",
    "version": 3
   },
   "file_extension": ".py",
   "mimetype": "text/x-python",
   "name": "python",
   "nbconvert_exporter": "python",
   "pygments_lexer": "ipython3",
   "version": "3.9.7"
  }
 },
 "nbformat": 4,
 "nbformat_minor": 5
}
