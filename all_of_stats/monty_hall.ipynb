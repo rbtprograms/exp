{
 "cells": [
  {
   "cell_type": "code",
   "execution_count": 27,
   "id": "bf9db478",
   "metadata": {},
   "outputs": [
    {
     "name": "stdout",
     "output_type": "stream",
     "text": [
      "Percentage chance of winning if you don't switch doors: 33.57%\n",
      "Percentage chance of winning if you do switch doors: 66.54%\n"
     ]
    }
   ],
   "source": [
    "#a simulator to prove the monty hall problem. monty has 3 doors with a prize behind one. you make a choice\n",
    "#and then monty opens one of the doors you didn't choose and shows you it doesn't have a prize, leaving you\n",
    "#with the door you chose and a door you didn't. monty asks you if you would like to change. What is the correct\n",
    "#choice, keep your original door or choose the other? the answer is choose, and the probability is suprisingly\n",
    "#unintutive. many people think choosing the other door has a 50% probability of being correct since you are now\n",
    "#choosing between 2 doors, but it is actually 2/3 likelihood to be beind the other door, so switching has a \n",
    "#66.66 repeating win rate.\n",
    "\n",
    "import random \n",
    "\n",
    "class monty_hall_simulator:\n",
    "    correct = 0\n",
    "    def __init__(self, trials, change_guess):\n",
    "        for i in range(0, trials):\n",
    "            correct_door = random.randint(0,2)\n",
    "            guess = random.randint(0,2)\n",
    "            \n",
    "            if change_guess:\n",
    "                options = [0,1,2]\n",
    "                #monty opens a door we haven't chosen and we can change if we want\n",
    "                eliminated_door = list(filter(lambda x: x!= correct_door and x!= guess, options))[0]\n",
    "                #we change our choice to the one that isn't eliminated\n",
    "                guess = list(filter(lambda x: x != guess and x != eliminated_door, options))[0]\n",
    "            if correct_door == guess:\n",
    "                self.correct += 1\n",
    "            \n",
    "trials = 10000\n",
    "no_change = monty_hall_simulator(trials, False)\n",
    "change = monty_hall_simulator(trials, True)\n",
    "\n",
    "print('Percentage chance of winning if you don\\'t switch doors: {percent}%'.format(percent=100*no_change.correct/trials))\n",
    "print('Percentage chance of winning if you do switch doors: {percent}%'.format(percent=100*change.correct/trials))\n",
    "\n"
   ]
  },
  {
   "cell_type": "code",
   "execution_count": null,
   "id": "4baa340d",
   "metadata": {},
   "outputs": [],
   "source": []
  }
 ],
 "metadata": {
  "kernelspec": {
   "display_name": "Python 3 (ipykernel)",
   "language": "python",
   "name": "python3"
  },
  "language_info": {
   "codemirror_mode": {
    "name": "ipython",
    "version": 3
   },
   "file_extension": ".py",
   "mimetype": "text/x-python",
   "name": "python",
   "nbconvert_exporter": "python",
   "pygments_lexer": "ipython3",
   "version": "3.9.7"
  }
 },
 "nbformat": 4,
 "nbformat_minor": 5
}
